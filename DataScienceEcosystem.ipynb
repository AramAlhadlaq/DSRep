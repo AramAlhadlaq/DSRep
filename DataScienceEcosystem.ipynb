{
  "metadata": {
    "language_info": {
      "file_extension": ".py",
      "mimetype": "text/x-python",
      "name": "python",
      "version": "3.10.2"
    },
    "kernelspec": {
      "name": "xeus-python",
      "display_name": "Python (XPython)",
      "language": "python"
    }
  },
  "nbformat_minor": 4,
  "nbformat": 4,
  "cells": [
    {
      "cell_type": "markdown",
      "source": "# H1: Data Science Tools and Ecosystem",
      "metadata": {}
    },
    {
      "cell_type": "markdown",
      "source": "*In this notebook, Data Science Tools and Ecosystem are summarized.*",
      "metadata": {}
    },
    {
      "cell_type": "markdown",
      "source": "# Some of the popular languages that Data Scientists use are:\n1. R\n2. Scala\n3. Julia\n",
      "metadata": {}
    },
    {
      "cell_type": "markdown",
      "source": "#Some of the commonly used libraries used by Data Scientists include:\n- NumPy.\n- Keras.\n- Pandas.",
      "metadata": {}
    },
    {
      "cell_type": "markdown",
      "source": "|Data Science Tools|\n|------------------|\n|RStudio           |\n|Apache Spark      |\n|TensorFlow        |",
      "metadata": {}
    },
    {
      "cell_type": "markdown",
      "source": "### H3: Below are a few examples of evaluating arithmetic expressions in Python",
      "metadata": {}
    },
    {
      "cell_type": "markdown",
      "source": "#This a simple arithmetic expression to mutiply then add integers",
      "metadata": {}
    },
    {
      "cell_type": "code",
      "source": "# This a simple arithmetic expression to mutiply then add integers",
      "metadata": {
        "trusted": true
      },
      "execution_count": 1,
      "outputs": []
    },
    {
      "cell_type": "markdown",
      "source": "# This a simple arithmetic expression to mutiply then add integers",
      "metadata": {}
    },
    {
      "cell_type": "code",
      "source": "(3*4)+5",
      "metadata": {
        "trusted": true
      },
      "execution_count": 2,
      "outputs": [
        {
          "execution_count": 2,
          "output_type": "execute_result",
          "data": {
            "text/plain": "17"
          },
          "metadata": {}
        }
      ]
    },
    {
      "cell_type": "markdown",
      "source": "# This will convert 200 minutes to hours by diving by 60",
      "metadata": {}
    },
    {
      "cell_type": "code",
      "source": "200/60",
      "metadata": {
        "trusted": true
      },
      "execution_count": 3,
      "outputs": [
        {
          "execution_count": 3,
          "output_type": "execute_result",
          "data": {
            "text/plain": "3.3333333333333335"
          },
          "metadata": {}
        }
      ]
    },
    {
      "cell_type": "markdown",
      "source": "**Objectives:**",
      "metadata": {}
    },
    {
      "cell_type": "markdown",
      "source": "- R\n- Scala\n- Julia",
      "metadata": {}
    },
    {
      "cell_type": "markdown",
      "source": "## Author ",
      "metadata": {}
    },
    {
      "cell_type": "markdown",
      "source": "Aram Alhadlaq",
      "metadata": {}
    },
    {
      "cell_type": "code",
      "source": "",
      "metadata": {},
      "execution_count": null,
      "outputs": []
    }
  ]
}